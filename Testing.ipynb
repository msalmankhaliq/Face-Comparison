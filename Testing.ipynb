{
 "cells": [
  {
   "cell_type": "code",
   "execution_count": 1,
   "metadata": {},
   "outputs": [],
   "source": [
    "from __future__ import print_function\n",
    "import os\n",
    "import re\n",
    "import scipy.misc\n",
    "import warnings\n",
    "import face_recognition.api as face_recognition\n",
    "import sys\n",
    "import cv2"
   ]
  },
  {
   "cell_type": "code",
   "execution_count": 2,
   "metadata": {},
   "outputs": [],
   "source": [
    "def scan_known_people(known_people_folder):\n",
    "    known_names = []\n",
    "    known_face_encodings = []\n",
    "\n",
    "    basename = known_people_folder \n",
    "    img = face_recognition.load_image_file(known_people_folder)\n",
    "    encodings = face_recognition.face_encodings(img)\n",
    "    if len(encodings) == 1:\n",
    "        known_names.append(basename)\n",
    "        known_face_encodings.append(encodings[0])   \n",
    "    return known_names, known_face_encodings\n"
   ]
  },
  {
   "cell_type": "code",
   "execution_count": 3,
   "metadata": {},
   "outputs": [],
   "source": [
    "def test_image(image_to_check, known_names, known_face_encodings):\n",
    "    unknown_image = face_recognition.load_image_file(image_to_check)\n",
    "\n",
    "    # Scale down image if it's giant so things run a little faster\n",
    "    if unknown_image.shape[1] > 1600:\n",
    "        scale_factor = 1600.0 / unknown_image.shape[1]\n",
    "        with warnings.catch_warnings():\n",
    "            warnings.simplefilter(\"ignore\")\n",
    "            unknown_image = scipy.misc.imresize(unknown_image, scale_factor)\n",
    "\n",
    "    unknown_encodings = face_recognition.face_encodings(unknown_image)\n",
    "    if len(unknown_encodings)==1:\n",
    "        for unknown_encoding in unknown_encodings:\n",
    "            result = face_recognition.compare_faces(known_face_encodings, unknown_encoding)\n",
    "            distance = face_recognition.face_distance(known_face_encodings, unknown_encoding)\n",
    "            # print(distance[0])\n",
    "            print(\"Face Matched!\") if True in result else print(\"Face not matched\")\n",
    "\n",
    "        return distance[0],result[0]\n",
    "    else:\n",
    "        return \"0\",\"Many Faces or No Faces\"\n"
   ]
  },
  {
   "cell_type": "code",
   "execution_count": 4,
   "metadata": {},
   "outputs": [],
   "source": [
    "def image_files_in_folder(folder):\n",
    "    return [os.path.join(folder, f) for f in os.listdir(folder) if re.match(r'.*\\.(jpg|jpeg|png)', f, flags=re.I)]"
   ]
  },
  {
   "cell_type": "code",
   "execution_count": 5,
   "metadata": {},
   "outputs": [],
   "source": [
    "def main(known_people_folder, image_to_check):\n",
    "    known_names, known_face_encodings = scan_known_people(known_people_folder)\n",
    "    distance,result=test_image(image_to_check, known_names, known_face_encodings)\n",
    "    return distance,result\n"
   ]
  },
  {
   "cell_type": "code",
   "execution_count": 7,
   "metadata": {},
   "outputs": [],
   "source": [
    "def get_coordinates(img):\n",
    "    #img = face_recognition.load_image_file(image_path)\n",
    "    locations = face_recognition.face_locations(img)\n",
    "    location_json=[]\n",
    "    for coordinates in locations:\n",
    "        json_dict={\n",
    "            'ymin':coordinates[0],\n",
    "            'xmin':coordinates[1],\n",
    "            'ymax':coordinates[2],\n",
    "            'xmax':coordinates[3]}\n",
    "\n",
    "        location_json.append(json_dict)\n",
    "    return locations,location_json"
   ]
  },
  {
   "cell_type": "code",
   "execution_count": 19,
   "metadata": {},
   "outputs": [
    {
     "name": "stdout",
     "output_type": "stream",
     "text": [
      "opencv_frame_0.jpg written!\n",
      "opencv_frame_1.jpg written!\n",
      "Escape hit, closing...\n"
     ]
    }
   ],
   "source": [
    "cam = cv2.VideoCapture(0)\n",
    "\n",
    "cv2.namedWindow(\"test\")\n",
    "\n",
    "img_counter = 0\n",
    "\n",
    "while True:\n",
    "    ret, frame = cam.read()\n",
    "    if not ret:\n",
    "        print(\"failed to grab frame\")\n",
    "        break\n",
    "    cv2.imshow(\"test\", frame)\n",
    "\n",
    "    k = cv2.waitKey(1)\n",
    "    if k%256 == 27:\n",
    "        # ESC pressed\n",
    "        print(\"Escape hit, closing...\")\n",
    "        break\n",
    "    elif k%256 == 32:\n",
    "        # SPACE pressed\n",
    "        img_name = \"opencv_frame_{}.jpg\".format(img_counter)\n",
    "        cv2.imwrite(img_name, frame)\n",
    "        print(\"{} written!\".format(img_name))\n",
    "        img_counter += 1  \n",
    "        \n",
    "cam.release()\n",
    "\n",
    "cv2.destroyAllWindows()"
   ]
  },
  {
   "cell_type": "code",
   "execution_count": 20,
   "metadata": {},
   "outputs": [
    {
     "name": "stdout",
     "output_type": "stream",
     "text": [
      "Face not matched\n",
      "False\n"
     ]
    }
   ],
   "source": [
    "import numpy as np\n",
    "id_path = \"opencv_frame_0.jpg\"\n",
    "selfie_path = \"opencv_frame_1.jpg\"\n",
    "distance, result = main(id_path, selfie_path)\n",
    "print(result)\n",
    "img_id = cv2.imread(id_path)\n",
    "img_selfie = cv2.imread(selfie_path)\n",
    "#concatanate image Horizontally\n",
    "img_concate_Hori=np.concatenate((img_id,img_selfie),axis=1)\n",
    "res,_=get_coordinates(img_concate_Hori)\n",
    "if result == True:\n",
    "    label = \"Verified. Faces Matched!\"\n",
    "else:\n",
    "    label = \"Sorry! Cannot verify. Faces don't matched.\"\n",
    "for coordinates in res:\n",
    "    ymin, xmin, ymax, xmax = coordinates\n",
    "    cv2.rectangle(img_concate_Hori, (xmin, ymin), (xmax, ymax), (255,255,0), 2)\n",
    "cv2.putText(img_concate_Hori, label, (250,450), cv2.FONT_HERSHEY_SIMPLEX, 1, (0, 255, 255), 2)\n",
    "cv2.imshow('test', img_concate_Hori) \n",
    "k = cv2.waitKey(0) & 0xFF\n",
    "    \n",
    "# wait for ESC key to exit \n",
    "if k == 27:  \n",
    "    cv2.destroyAllWindows() \n",
    "        \n",
    "# wait for 's' key to save and exit \n",
    "elif k == ord('s'):  \n",
    "    cv2.imwrite('result.jpg',img) \n",
    "    cv2.destroyAllWindows() "
   ]
  },
  {
   "cell_type": "code",
   "execution_count": null,
   "metadata": {},
   "outputs": [],
   "source": []
  }
 ],
 "metadata": {
  "kernelspec": {
   "display_name": "Python 3",
   "language": "python",
   "name": "python3"
  },
  "language_info": {
   "codemirror_mode": {
    "name": "ipython",
    "version": 3
   },
   "file_extension": ".py",
   "mimetype": "text/x-python",
   "name": "python",
   "nbconvert_exporter": "python",
   "pygments_lexer": "ipython3",
   "version": "3.7.7"
  }
 },
 "nbformat": 4,
 "nbformat_minor": 4
}
